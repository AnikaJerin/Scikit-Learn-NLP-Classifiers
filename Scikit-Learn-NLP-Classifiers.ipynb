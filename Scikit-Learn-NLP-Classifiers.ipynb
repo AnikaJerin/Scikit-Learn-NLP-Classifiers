{
 "cells": [
  {
   "cell_type": "markdown",
   "metadata": {},
   "source": [
    "# Load_file And Read Data"
   ]
  },
  {
   "cell_type": "code",
   "execution_count": 1,
   "metadata": {},
   "outputs": [
    {
     "data": {
      "text/plain": [
       "('Love the book, great story line, keeps you entertained.for a first novel from this author she did a great job,  Would definitely recommend!',\n",
       " 4.0)"
      ]
     },
     "execution_count": 1,
     "metadata": {},
     "output_type": "execute_result"
    }
   ],
   "source": [
    "import json\n",
    "file_name='./data/sentiment/Books_small.json'\n",
    "reviews=[]\n",
    "with open(file_name) as  f:\n",
    "    for line in f:\n",
    "        review=json.loads(line)\n",
    "#         print(review['reviewText'])\n",
    "#         print(review['overall'])\n",
    "#         break #cz right now you don't have to read all reviews; just reading one review and breaking the loop\n",
    "        reviews.append((review['reviewText'],review['overall']))\n",
    "reviews[5] #taking reviews with score\n",
    "# reviews[5][0] #taking only review \n",
    "# reviews[5][1] #taking only scores"
   ]
  },
  {
   "cell_type": "markdown",
   "metadata": {},
   "source": [
    "## Doing Same thing Using Class"
   ]
  },
  {
   "cell_type": "code",
   "execution_count": 2,
   "metadata": {},
   "outputs": [],
   "source": [
    "class Review:\n",
    "    def __init__(self,text,score):\n",
    "        self.text=text\n",
    "        self.Score=score\n",
    "        self.sentiment=self.get_sentiment()\n",
    "    def get_sentiment(self):\n",
    "        if self.Score <= 2:\n",
    "            return \"NEGATIVE\"\n",
    "        elif self.Score == 3:\n",
    "            return \"NUTRAL\"\n",
    "        else:\n",
    "            return \"POSITIVE\""
   ]
  },
  {
   "cell_type": "code",
   "execution_count": 4,
   "metadata": {},
   "outputs": [
    {
     "data": {
      "text/plain": [
       "'Love the book, great story line, keeps you entertained.for a first novel from this author she did a great job,  Would definitely recommend!'"
      ]
     },
     "execution_count": 4,
     "metadata": {},
     "output_type": "execute_result"
    }
   ],
   "source": [
    "import json\n",
    "file_name='./data/sentiment/Books_small.json'\n",
    "reviews=[]\n",
    "with open(file_name) as  f:\n",
    "    for line in f:\n",
    "        review=json.loads(line)\n",
    "        reviews.append(Review(review['reviewText'],review['overall'])) #creating objects for Review class\n",
    "# reviews[5].text\n",
    "reviews[5].sentiment\n",
    "reviews[5].text\n"
   ]
  },
  {
   "cell_type": "markdown",
   "metadata": {},
   "source": [
    "### Converting Texts into Quantitive Vector "
   ]
  },
  {
   "cell_type": "markdown",
   "metadata": {},
   "source": [
    "##### Bag of words : if we have two lines such as \"this book was so good\" and \"this book was very bad\". First we have to break this into a\n",
    "#### dicionary of tokens; may be a unigram like a single word as a dictionary. here--> this, book, was, so, good,very , bad\n",
    "#### to convert this into vector all we have to do is map ones and zeroses to the terms over here \n",
    "#### so, this book was so good would have ones mapped to the 1st 5 words but last 2 words would have zero mapped into it  cz it has negative vibe. \n",
    "#### For the 1st line it would be 1,1,1,1,1,0,0\n",
    "#### For the 2nd line it would be 1,1,1,0,0,1,1 (see the ss)\n"
   ]
  },
  {
   "cell_type": "code",
   "execution_count": null,
   "metadata": {},
   "outputs": [],
   "source": []
  }
 ],
 "metadata": {
  "kernelspec": {
   "display_name": "Python 3",
   "language": "python",
   "name": "python3"
  },
  "language_info": {
   "codemirror_mode": {
    "name": "ipython",
    "version": 3
   },
   "file_extension": ".py",
   "mimetype": "text/x-python",
   "name": "python",
   "nbconvert_exporter": "python",
   "pygments_lexer": "ipython3",
   "version": "3.8.5"
  }
 },
 "nbformat": 4,
 "nbformat_minor": 4
}
